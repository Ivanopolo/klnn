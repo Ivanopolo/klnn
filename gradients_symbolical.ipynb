{
 "cells": [
  {
   "cell_type": "code",
   "execution_count": 1,
   "metadata": {
    "collapsed": false
   },
   "outputs": [
    {
     "data": {
      "text/plain": [
       "1.0*x*exp(W1*x)/(1.0*exp(W1*x) + 1)**2"
      ]
     },
     "execution_count": 1,
     "metadata": {},
     "output_type": "execute_result"
    }
   ],
   "source": [
    "from sympy import *\n",
    "\n",
    "def sigm(input_var):\n",
    "    return 1.0 / (1.0 + exp(-(input_var)))\n",
    "\n",
    "x, W1 = symbols('x W1') #initializing variables\n",
    "fun = sigm(x * W1) #defining function\n",
    "der = diff(fun, W1) #get symbolic gradient\n",
    "simplify(der) #print gradient in a simplified form"
   ]
  },
  {
   "cell_type": "code",
   "execution_count": 8,
   "metadata": {
    "collapsed": false
   },
   "outputs": [
    {
     "data": {
      "text/plain": [
       "2*x - 2*y"
      ]
     },
     "execution_count": 8,
     "metadata": {},
     "output_type": "execute_result"
    }
   ],
   "source": [
    "x, y, W1 = symbols('x y W1')\n",
    "pred = sigm(x * W1)\n",
    "loss = (y-x)**2\n",
    "der = diff(loss, x)\n",
    "der"
   ]
  },
  {
   "cell_type": "code",
   "execution_count": 2,
   "metadata": {
    "collapsed": false
   },
   "outputs": [
    {
     "data": {
      "text/plain": [
       "1.0*W2*x*exp(W1*x + 1.0*W2*exp(W1*x)/(1.0*exp(W1*x) + 1))/((1.0*exp(W1*x) + 1)**2*(1.0*exp(1.0*W2*exp(W1*x)/(1.0*exp(W1*x) + 1)) + 1)**2)"
      ]
     },
     "execution_count": 2,
     "metadata": {},
     "output_type": "execute_result"
    }
   ],
   "source": [
    "x, W1, W2 = symbols('x W1 W2')\n",
    "fun = sigm(x * W1) #layer 1\n",
    "fun = sigm(fun * W2) #layer 2\n",
    "der = diff(fun, W1)\n",
    "simplify(der)"
   ]
  },
  {
   "cell_type": "code",
   "execution_count": 4,
   "metadata": {
    "collapsed": false
   },
   "outputs": [
    {
     "data": {
      "text/plain": [
       "1.0*W2*W3*x*exp(W1*x + 1.0*W2*exp(W1*x)/(1.0*exp(W1*x) + 1) + 1.0*W3*exp(1.0*W2*exp(W1*x)/(1.0*exp(W1*x) + 1))/(1.0*exp(1.0*W2*exp(W1*x)/(1.0*exp(W1*x) + 1)) + 1))/((1.0*exp(W1*x) + 1)**2*(1.0*exp(1.0*W2*exp(W1*x)/(1.0*exp(W1*x) + 1)) + 1)**2*(1.0*exp(1.0*W3*exp(1.0*W2*exp(W1*x)/(1.0*exp(W1*x) + 1))/(1.0*exp(1.0*W2*exp(W1*x)/(1.0*exp(W1*x) + 1)) + 1)) + 1)**2)"
      ]
     },
     "execution_count": 4,
     "metadata": {},
     "output_type": "execute_result"
    }
   ],
   "source": [
    "x, W1, W2, W3 = symbols('x W1 W2 W3')\n",
    "fun = sigm(x * W1) #layer 1\n",
    "fun = sigm(fun * W2) #layer 2\n",
    "fun = sigm(fun * W3) #layer 3\n",
    "der = diff(fun, W1)\n",
    "simplify(der)"
   ]
  },
  {
   "cell_type": "code",
   "execution_count": null,
   "metadata": {
    "collapsed": true
   },
   "outputs": [],
   "source": []
  }
 ],
 "metadata": {
  "kernelspec": {
   "display_name": "Python 2",
   "language": "python",
   "name": "python2"
  },
  "language_info": {
   "codemirror_mode": {
    "name": "ipython",
    "version": 2
   },
   "file_extension": ".py",
   "mimetype": "text/x-python",
   "name": "python",
   "nbconvert_exporter": "python",
   "pygments_lexer": "ipython2",
   "version": "2.7.6"
  }
 },
 "nbformat": 4,
 "nbformat_minor": 0
}
